{
 "cells": [
  {
   "cell_type": "markdown",
   "metadata": {},
   "source": [
    "# Word Embedding Experiments"
   ]
  },
  {
   "cell_type": "code",
   "execution_count": 3,
   "metadata": {
    "collapsed": false
   },
   "outputs": [
    {
     "name": "stdout",
     "output_type": "stream",
     "text": [
      "14857 words in vocabulary\n",
      "\n",
      "TOP 20 WORDS (word, frequency):\n",
      "\n",
      "1: one, 3776763\n",
      "2: zero, 3085159\n",
      "3: two, 2339795\n",
      "4: nine, 2063639\n",
      "5: eight, 1489511\n",
      "6: three, 1483144\n",
      "7: four, 1459614\n",
      "8: five, 1456358\n",
      "9: six, 1283958\n",
      "10: seven, 1123107\n",
      "11: age, 281526\n",
      "12: also, 274357\n",
      "13: population, 251316\n",
      "14: years, 196050\n",
      "15: km, 191331\n",
      "16: new, 183025\n",
      "17: city, 183019\n",
      "18: first, 178328\n",
      "19: american, 172338\n",
      "20: county, 171869\n"
     ]
    }
   ],
   "source": [
    "import re\n",
    "import operator\n",
    "import math\n",
    "import string\n",
    "import nltk\n",
    "import numpy as np\n",
    "from pyspark.sql import SparkSession\n",
    "from collections import Counter\n",
    "from pprint import pprint\n",
    "\n",
    "def clean_and_split(s):\n",
    "    # encode to UTF-8, convert to lowercase and translate all hyphens and punctuation to whitespace\n",
    "    s = s.encode('utf-8').lower().replace('-',' ').translate(None, string.punctuation)\n",
    "    # replace \\r\\n\n",
    "    s = re.sub(r'(\\r\\n )+',' ',s)\n",
    "    # replace whitespace substrings with one whitespace and remove leading/trailing whitespaces\n",
    "    return s.split(' ')\n",
    "\n",
    "stopwords = set(nltk.corpus.stopwords.words('english'))\n",
    "freq_cutoff = 420\n",
    "wiki_file = open('/project/cmsc25025/wikipedia/wiki-text.txt','r').readlines()[0]\n",
    "\n",
    "num_chunks = 1000\n",
    "chunks, chunk_size = len(wiki_file), len(wiki_file)/num_chunks\n",
    "wiki_chunks = [wiki_file[i:i+chunk_size] for i in range(0, chunks, chunk_size)]\n",
    "\n",
    "spark  = SparkSession.builder.master('local[100]').config(\"spark.driver.maxResultSize\", \"12g\").appName('word_embeddings')\\\n",
    ".getOrCreate()\n",
    "wiki_data = spark.sparkContext.parallelize(wiki_chunks)\n",
    "\n",
    "parsed_wiki = wiki_data.map(lambda x: clean_and_split(x))\n",
    "\n",
    "word_vec = parsed_wiki.flatMap(lambda x: x).filter(lambda x: x!='').repartition(num_chunks).glom()\n",
    "\n",
    "wordcount = parsed_wiki.flatMap(lambda x: x).map(lambda x: (x,1)).reduceByKey(lambda x, y: x+y)\n",
    "\n",
    "to_del = wordcount.filter(lambda x: x[1]<freq_cutoff).map(lambda x: x[0]).collect()\n",
    "\n",
    "wordcount = wordcount.filter(lambda x: x[1] >=freq_cutoff).sortBy(lambda x: x[1], ascending=False)\\\n",
    ".filter(lambda x: x[0] not in stopwords)\n",
    "\n",
    "vocab = wordcount.map(lambda x: x[0]).sortBy(lambda x: x)\n",
    "\n",
    "d = vocab.count()\n",
    "wc = wordcount.take(20)\n",
    "vocabulary = vocab.collect()\n",
    "\n",
    "vocabset = set(vocabulary)\n",
    "\n",
    "enum_dict = {}\n",
    "for i, word in enumerate(vocabulary):\n",
    "    enum_dict[word] = i\n",
    "\n",
    "print(\"{} words in vocabulary\".format(d))\n",
    "print(\"\\nTOP 20 WORDS (word, frequency):\\n\")\n",
    "for i, (key, val) in enumerate(wc):\n",
    "    print(\"{}: {}, {}\".format(i+1, key, val))"
   ]
  },
  {
   "cell_type": "markdown",
   "metadata": {},
   "source": [
    "Just a quick note: the above code has been tested on broadwl. When I tried to run the same code on an ivyb partition, I got a Py4J Java memory error.\n",
    "\n",
    "These new word frequencies aren't really surprising. Wikipedia generally follows good editing/grammar practices, one of which is that usually any number less than 10 is fully written out, and since we'd expect these words to appear relatively independent of context, we should be expecting these values to appear somewhat often."
   ]
  },
  {
   "cell_type": "code",
   "execution_count": 2,
   "metadata": {
    "collapsed": false,
    "scrolled": true
   },
   "outputs": [],
   "source": [
    "from operator import add\n",
    "\n",
    "window_size = 5\n",
    "\n",
    "test_string = \"i love so many apples very much\"\n",
    "\n",
    "ts2= \"ok this is very nice and very cool whee\"\n",
    "\n",
    "test_vec = clean_and_split(test_string)\n",
    "tv2 = clean_and_split(ts2)\n",
    "\n",
    "\n",
    "def generate_word_context_pairs(word_vec):\n",
    "    results = []\n",
    "    for i in range(len(word_vec)):\n",
    "        word = word_vec[i]\n",
    "        iter_args = map(lambda x: x+1, range(window_size))\n",
    "        for j in iter_args:\n",
    "            if i-j>=0:\n",
    "                if word in vocabset and word_vec[i-j] in vocabset:\n",
    "                    results.append((word, word_vec[i-j]))\n",
    "            if i+j<=len(word_vec)-1:\n",
    "                if word in vocabset and word_vec[i+j] in vocabset:\n",
    "                    results.append((word, word_vec[i+j]))\n",
    "    return results\n",
    "\n",
    "ct = word_vec.map(lambda x: generate_word_context_pairs(x)).flatMap(lambda x: x).map(lambda x: (x,1))\\\n",
    ".reduceByKey(lambda x, y: x+y)\n",
    "context_vec = ct.map(lambda x: (x[0][1],x[1])).reduceByKey(lambda x, y: x+y).sortBy(lambda x: x[0]).map(lambda x: x[1]).collect()"
   ]
  },
  {
   "cell_type": "markdown",
   "metadata": {},
   "source": [
    "`ct` now contains a count corresponding to every ($ w_i, w_j$)\n",
    "\n",
    "Recall that our vocabulary matrix is a list of vectors containing the words of our vocabulary, in alphabetically-sorted order, and that when we created `enum_dict` above, we created a constant-time way to determine the index of each of our words."
   ]
  },
  {
   "cell_type": "code",
   "execution_count": 3,
   "metadata": {
    "collapsed": false
   },
   "outputs": [
    {
     "name": "stdout",
     "output_type": "stream",
     "text": [
      "50332034\n"
     ]
    }
   ],
   "source": [
    "D = ct.count()\n",
    "print(D)"
   ]
  },
  {
   "cell_type": "code",
   "execution_count": null,
   "metadata": {
    "collapsed": true
   },
   "outputs": [],
   "source": []
  },
  {
   "cell_type": "code",
   "execution_count": null,
   "metadata": {
    "collapsed": true
   },
   "outputs": [],
   "source": [
    "vocab_file = 'wiki-vocab.txt'\n",
    "vectors_file = 'wiki-vectors.txt'\n",
    "with open(vocab_file, 'r') as f:"
   ]
  },
  {
   "cell_type": "markdown",
   "metadata": {},
   "source": [
    "# Experiments"
   ]
  },
  {
   "cell_type": "markdown",
   "metadata": {},
   "source": [
    "## local GloVe embeddings"
   ]
  },
  {
   "cell_type": "code",
   "execution_count": 17,
   "metadata": {
    "collapsed": false
   },
   "outputs": [
    {
     "name": "stdout",
     "output_type": "stream",
     "text": [
      "4\n",
      "and\n"
     ]
    },
    {
     "data": {
      "text/plain": [
       "50"
      ]
     },
     "execution_count": 17,
     "metadata": {},
     "output_type": "execute_result"
    }
   ],
   "source": [
    "vocab_file = 'wiki-vocab.txt'\n",
    "vectors_file = 'wiki-vectors.txt'\n",
    "\n",
    "with open(vocab_file, 'r') as f:\n",
    "    words = [x.rstrip().split(' ')[0] for x in f.readlines()]\n",
    "    \n",
    "with open(vectors_file, 'r') as f:\n",
    "    vectors_local = {}\n",
    "    for line in f:\n",
    "        vals = line.rstrip().split(' ')\n",
    "        vectors_local[vals[0]] = [float(x) for x in vals[1:]]\n",
    "    \n",
    "vocab = {w: idx for idx, w in enumerate(words)}\n",
    "#vocab['and'] will give you 4. a dictionary with words as the keys, the most-frequent ranking as values\n",
    "ivocab = {idx: w for idx, w in enumerate(words)}\n",
    "#ivocab[4] will give you 'and'. a dictionary with ranking as keys, words as the values.\n",
    "\n",
    "#vectors_local dictionary with words as keys, vector-representation as values\n",
    "    \n",
    "    \n",
    "print vocab['and']\n",
    "print ivocab[4]\n",
    "len(vectors_local['umbrella'])\n"
   ]
  },
  {
   "cell_type": "markdown",
   "metadata": {},
   "source": [
    "## pretrained GloVe embeddings"
   ]
  },
  {
   "cell_type": "code",
   "execution_count": 5,
   "metadata": {
    "collapsed": false
   },
   "outputs": [
    {
     "data": {
      "text/plain": [
       "50"
      ]
     },
     "execution_count": 5,
     "metadata": {},
     "output_type": "execute_result"
    }
   ],
   "source": [
    "vocab_file = 'wiki-vocab.txt'\n",
    "vectors_file = 'glove.6B.50d.txt'\n",
    "\n",
    "with open(vocab_file, 'r') as f:\n",
    "    words = [x.rstrip().split(' ')[0] for x in f.readlines()]\n",
    "    \n",
    "with open(vectors_file, 'r') as f:\n",
    "    vectors_pretrained = {}\n",
    "    for line in f:\n",
    "        vals = line.rstrip().split(' ')\n",
    "        vectors_pretrained[vals[0]] = [float(x) for x in vals[1:]]\n",
    "    \n",
    "vocab = {w: idx for idx, w in enumerate(words)}\n",
    "ivocab = {idx: w for idx, w in enumerate(words)}\n",
    "    \n",
    "\n",
    "\n",
    "\n"
   ]
  },
  {
   "cell_type": "code",
   "execution_count": 6,
   "metadata": {
    "collapsed": false
   },
   "outputs": [],
   "source": [
    "import re\n",
    "import operator\n",
    "import math\n",
    "import string\n",
    "import nltk\n",
    "import numpy as np\n",
    "from pyspark.sql import SparkSession\n",
    "from collections import Counter\n",
    "from pprint import pprint\n",
    "\n",
    "def most_similar_word(input_key, topn=5):\n",
    "    result = []\n",
    "    input_vector = np.array(vectors_pretrained[input_key])\n",
    "    list_of_keys = vectors_pretrained.keys()\n",
    "    \n",
    "    result = [(i, np.corrcoef(input_vector, np.array(vectors_pretrained[i]))[0][1]) for i in list_of_keys]\n",
    "    result = sorted(result, key=lambda x: x[1], reverse=True)\n",
    "    return result[1:topn+1]\n",
    "\n"
   ]
  },
  {
   "cell_type": "code",
   "execution_count": 43,
   "metadata": {
    "collapsed": false
   },
   "outputs": [
    {
     "name": "stdout",
     "output_type": "stream",
     "text": [
      "[('chemistry', 0.90339692179090558), ('mathematics', 0.87639370502946112), ('theoretical', 0.84616146288565353), ('science', 0.83076737222928898), ('biology', 0.82202538340105213)]\n",
      "[('gop', 0.9601186437099728), ('democrat', 0.91177681847217773), ('democrats', 0.90189139492505921), ('democratic', 0.90024109872263436), ('republicans', 0.8999190012406697)]\n",
      "[('relativity', 0.75339859341305515), ('bohr', 0.73040982090264039), ('leibniz', 0.711250166633425), ('heisenberg', 0.70617917578827816), ('physics', 0.70072489428987705)]\n",
      "[('geometry', 0.80069570756560071), ('algebraic', 0.78039627738504147), ('homological', 0.75424174854688819), ('boolean', 0.74378756402187118), ('algebras', 0.73864878698402836)]\n",
      "[('salmon', 0.83000145580873264), ('wild', 0.80610781627613715), ('birds', 0.78175699469358517), ('shrimp', 0.78147167243713955), ('meat', 0.78133137654770468)]\n"
     ]
    }
   ],
   "source": [
    "print most_similar_word(\"physics\")\n",
    "print most_similar_word(\"republican\")\n",
    "print most_similar_word(\"einstein\")\n",
    "print most_similar_word(\"algebra\")\n",
    "print most_similar_word(\"fish\")"
   ]
  },
  {
   "cell_type": "code",
   "execution_count": 71,
   "metadata": {
    "collapsed": true
   },
   "outputs": [],
   "source": [
    "def analogy_maker(key_1, key_2, key_a, embeddings):\n",
    "    result = []\n",
    "    solve_for_b = np.array(embeddings[key_2]) - np.array(embeddings[key_1]) + np.array(embeddings[key_a])\n",
    "    list_of_keys = embeddings.keys()\n",
    "    result = [(i, np.corrcoef(solve_for_b, np.array(embeddings[i]))[0][1]) for i in list_of_keys]\n",
    "    result = sorted(result, key=lambda x: x[1], reverse=True)\n",
    "    return result[:4]"
   ]
  },
  {
   "cell_type": "code",
   "execution_count": 47,
   "metadata": {
    "collapsed": false
   },
   "outputs": [
    {
     "data": {
      "text/plain": [
       "[('melbourne', 0.83867626341285573),\n",
       " ('london', 0.8193409891407949),\n",
       " ('england', 0.79885452706165494)]"
      ]
     },
     "execution_count": 47,
     "metadata": {},
     "output_type": "execute_result"
    }
   ],
   "source": [
    "analogy_maker(\"france\",\"paris\",\"england\", vectors_pretrained)"
   ]
  },
  {
   "cell_type": "code",
   "execution_count": 70,
   "metadata": {
    "collapsed": false
   },
   "outputs": [
    {
     "name": "stdout",
     "output_type": "stream",
     "text": [
      "[('puppy', 0.91070147721766559), ('puppies', 0.76059852863944633), ('cat', 0.74683227492433146)]\n",
      "[('shallow', 0.85055341652492955), ('shallower', 0.8197816239936947), ('uncharted', 0.77264001119522474)]\n",
      "[('suv', 0.79204872727448872), ('minivan', 0.75171999032166359), ('toyota', 0.7366286911892026)]\n",
      "[('raised', 0.79704911807104861), ('expected', 0.78270916587597728), ('over', 0.77922098189285471)]\n",
      "[('male', 0.86610356606057592), ('female', 0.8436528673741458), ('adults', 0.74639131260705394)]\n",
      "[('foot', 0.83052358268286153), ('rib', 0.73668030854601896), ('hoof', 0.73129589923870908)]\n",
      "[('liqueur', 0.75763278741693452), ('juice', 0.75544834920100834), ('pint', 0.74517102050959283)]\n"
     ]
    }
   ],
   "source": [
    "#print analogy_maker(\"republican\",\"democrat\",\"conservative\", vectors_pretrained)\n",
    "print analogy_maker(\"dog\",\"cat\",\"puppy\", vectors_pretrained)\n",
    "print analogy_maker(\"deep\",\"deeper\",\"shallow\", vectors_pretrained)\n",
    "print analogy_maker(\"united\",\"airplane\",\"toyota\", vectors_pretrained)\n",
    "print analogy_maker(\"scissors\",\"cut\",\"pen\", vectors_pretrained)\n",
    "print analogy_maker(\"uncle\",\"male\",\"aunt\", vectors_pretrained)\n",
    "print analogy_maker(\"hand\",\"finger\",\"foot\", vectors_pretrained)\n",
    "print analogy_maker(\"water\",\"bottle\",\"juice\", vectors_pretrained)"
   ]
  },
  {
   "cell_type": "code",
   "execution_count": 19,
   "metadata": {
    "collapsed": false
   },
   "outputs": [
    {
     "name": "stdout",
     "output_type": "stream",
     "text": [
      "[('science', 5.9473023680999182), ('harvard', 6.0143880291453566), ('graduate', 6.0151012251611355), ('interactive', 6.0882915014294445)]\n",
      "[('liquefied', 4.8585294397353405), ('lpg', 5.1245452870895774), ('ethane', 5.1633456566758387), ('liquified', 5.2536489905295003)]\n",
      "[('icbc', 4.9115360932216028), ('tapir', 5.0403961861662943), ('hogweed', 5.0933379335071693), ('telco', 5.0938686805350137)]\n",
      "[('estimated', 4.91420752015018), ('total', 5.0193343792455636), ('land', 5.0224019393956318), ('registered', 5.0300988292393072)]\n",
      "[('nuclear', 5.1093257302020785), ('enrichment', 5.547821574534459), ('roadmap', 5.6254288798440966), ('peace', 5.8310680129226755)]\n",
      "[('computer', 5.5632049527540328), ('computing', 5.9178352258658746), ('computers', 6.5014416859651982), ('interactive', 6.5157050898439985)]\n",
      "[('antimatter', 4.725375345448656), ('gas', 5.5808482812838589), ('sarin', 5.7756746265300478), ('ionized', 5.8250887902575359)]\n",
      "[('cantopop', 5.0087824760242885), ('donkey', 5.2468914596569469), ('ghidorah', 5.3310031254972081), ('godzilla', 5.3880713608972366)]\n",
      "[('collect', 4.5249388404298898), ('required', 4.5989513393510695), ('needed', 4.6165778650804752), ('amount', 4.6711012937578227)]\n",
      "[('nuclear', 4.7247174855184726), ('disarmament', 4.9706806182973571), ('proliferation', 5.2077333069394021), ('atomic', 5.2376796480751855)]\n"
     ]
    }
   ],
   "source": [
    "print analogy_maker2(\"steel\",\"carnegie\",\"computer\", vectors_pretrained)[:4]\n",
    "print analogy_maker2(\"white\",\"dwarf\",\"gas\", vectors_pretrained)[:4]\n",
    "print analogy_maker2(\"washington\",\"redwood\",\"japan\", vectors_pretrained)[:4]\n",
    "print analogy_maker2(\"geography\",\"land\",\"statistics\", vectors_pretrained)[:4]\n",
    "print analogy_maker2(\"war\",\"nuclear\",\"peace\", vectors_pretrained)[:4]\n",
    "\n",
    "print analogy_maker2(\"steel\",\"carnegie\",\"computer\", vectors_local)[:4]\n",
    "print analogy_maker2(\"white\",\"dwarf\",\"gas\", vectors_local)[:4]\n",
    "print analogy_maker2(\"washington\",\"redwood\",\"japan\", vectors_local)[:4]\n",
    "print analogy_maker2(\"geography\",\"land\",\"statistics\", vectors_local)[:4]\n",
    "print analogy_maker2(\"war\",\"nuclear\",\"peace\", vectors_local)[:4]"
   ]
  },
  {
   "cell_type": "markdown",
   "metadata": {},
   "source": [
    "republican:democrat=conservative:liberal\n",
    "dog:cat=puppy:kitten\n",
    "water:bottle=juice:box\n",
    "deep:deeper=shallow:shallower\n",
    "france:paris=england:london\n",
    "united:airplane=toyota:car\n",
    "man:king=woman:queen\n",
    "scissors:cut=pen:write\n",
    "uncle:male=aunt:female\n",
    "hand:finger=foot:toe"
   ]
  },
  {
   "cell_type": "code",
   "execution_count": 11,
   "metadata": {
    "collapsed": false
   },
   "outputs": [
    {
     "name": "stdout",
     "output_type": "stream",
     "text": [
      "[('republican', 0.0), ('gop', 1.7938955847216971), ('democrat', 2.554539367864586), ('democratic', 2.6229500680220736), ('republicans', 2.6457269835585833), ('democrats', 2.6767113330447119)]\n"
     ]
    }
   ],
   "source": [
    "def most_similar_word2(input_vector, embeddings):\n",
    "    result = []\n",
    "    input_vector = np.array(input_vector)\n",
    "    list_of_keys = embeddings.keys()\n",
    "    \n",
    "    result = [(i, np.linalg.norm(input_vector - np.array(embeddings[i]))) for i in list_of_keys]\n",
    "    result = sorted(result, key=lambda x: x[1])\n",
    "    return result\n",
    "\n",
    "print most_similar_word2(vectors_pretrained['republican'], vectors_pretrained)[:6]"
   ]
  },
  {
   "cell_type": "code",
   "execution_count": 12,
   "metadata": {
    "collapsed": false
   },
   "outputs": [
    {
     "name": "stdout",
     "output_type": "stream",
     "text": [
      "[('physics', 0.0), ('chemistry', 2.5992288200160449), ('mathematics', 2.8797199795117998), ('theoretical', 3.1808381364344838), ('science', 3.390935946502041), ('biology', 3.4912506253413316)]\n",
      "[('fish', 0.0), ('salmon', 3.1377438408789158), ('shrimp', 3.6027831422811687), ('meat', 3.6398746602778189), ('bird', 3.6828217190857302), ('wild', 3.7029441277670441)]\n",
      "[('einstein', 0.0), ('bohr', 3.5116638311207824), ('relativity', 3.6324145166477422), ('invented', 3.6548627516095595), ('freud', 3.6948511728856901), ('gottlieb', 3.7071285592736056)]\n",
      "[('algebra', 0.0), ('geometry', 3.7424538031950658), ('homological', 4.1166527753273305), ('algebraic', 4.1530159053251179), ('associative', 4.2107755446655455), ('analytic', 4.3432339641415139)]\n"
     ]
    }
   ],
   "source": [
    "print most_similar_word2(vectors_pretrained['physics'], vectors_pretrained)[:6]\n",
    "print most_similar_word2(vectors_pretrained['fish'], vectors_pretrained)[:6]\n",
    "print most_similar_word2(vectors_pretrained['einstein'], vectors_pretrained)[:6]\n",
    "print most_similar_word2(vectors_pretrained['algebra'], vectors_pretrained)[:6]"
   ]
  },
  {
   "cell_type": "code",
   "execution_count": 13,
   "metadata": {
    "collapsed": true
   },
   "outputs": [],
   "source": [
    "def analogy_maker2(key_1, key_2, key_a, embeddings):\n",
    "    solve_for_b = np.array(embeddings[key_2]) - np.array(embeddings[key_1]) + np.array(embeddings[key_a])\n",
    "    return most_similar_word2(solve_for_b, embeddings)\n"
   ]
  },
  {
   "cell_type": "code",
   "execution_count": 20,
   "metadata": {
    "collapsed": false
   },
   "outputs": [
    {
     "name": "stdout",
     "output_type": "stream",
     "text": [
      "[('melbourne', 3.2304918009135783), ('london', 3.4076883142486527), ('england', 3.6404354816873492), ('glasgow', 3.6475196572197959)]\n",
      "[('puppy', 1.8846031066726727), ('kitten', 3.0314016522121543), ('puppies', 3.0835575331654481), ('cat', 3.1496879009572649)]\n",
      "[('puppy', 1.8846031066726727), ('kitten', 3.0314016522121543), ('puppies', 3.0835575331654481), ('cat', 3.1496879009572649)]\n",
      "[('woman', 2.8391206432941996), ('girl', 3.3544868238864929), ('man', 3.477756228974235), ('boy', 3.9517825663594004)]\n",
      "[('shallow', 2.6894157644118546), ('shallower', 2.8601969803634226), ('uncharted', 3.4907408357802789), ('draining', 3.5256009570840541)]\n",
      "[('suv', 5.8389038872594217), ('minivan', 6.2025963963978423), ('toyota', 6.214188264560681), ('prius', 6.3659144644278483)]\n"
     ]
    }
   ],
   "source": [
    "print analogy_maker2(\"france\",\"paris\",\"england\", vectors_pretrained)[:4]\n",
    "print analogy_maker2(\"dog\",\"cat\",\"puppy\", vectors_pretrained)[:4]\n",
    "print analogy_maker2(\"dog\",\"puppy\",\"cat\", vectors_pretrained)[:4]\n",
    "print analogy_maker2(\"king\",\"man\",\"queen\", vectors_pretrained)[:4]\n",
    "print analogy_maker2(\"deep\",\"deeper\",\"shallow\", vectors_pretrained)[:4]\n",
    "print analogy_maker2(\"united\",\"airplane\",\"toyota\", vectors_pretrained)[:4]"
   ]
  },
  {
   "cell_type": "code",
   "execution_count": 16,
   "metadata": {
    "collapsed": false
   },
   "outputs": [
    {
     "name": "stdout",
     "output_type": "stream",
     "text": [
      "[('raised', 4.0985014723564097), ('over', 4.1041307862677101), ('expected', 4.171228379983174), ('far', 4.2940130898891189)]\n",
      "[('male', 3.218575387467308), ('female', 3.4343383153605251), ('adults', 4.2955872280585075), ('adult', 4.3168627507296744)]\n",
      "[('foot', 3.0329455233462879), ('hoof', 3.8109356375630945), ('toe', 3.8534607876958384), ('forearm', 3.8807729316806765)]\n",
      "[('juice', 5.2103516462150612), ('liqueur', 5.2163099393500376), ('vodka', 5.4487656552510133), ('ketchup', 5.5186078926771014)]\n"
     ]
    }
   ],
   "source": [
    "print analogy_maker2(\"scissors\",\"cut\",\"pen\", vectors_pretrained)[:4]\n",
    "print analogy_maker2(\"uncle\",\"male\",\"aunt\", vectors_pretrained)[:4]\n",
    "print analogy_maker2(\"hand\",\"finger\",\"foot\", vectors_pretrained)[:4]\n",
    "print analogy_maker2(\"water\",\"bottle\",\"juice\", vectors_pretrained)[:4]"
   ]
  },
  {
   "cell_type": "code",
   "execution_count": 15,
   "metadata": {
    "collapsed": false
   },
   "outputs": [
    {
     "data": {
      "application/javascript": [
       "/* Put everything inside the global mpl namespace */\n",
       "window.mpl = {};\n",
       "\n",
       "\n",
       "mpl.get_websocket_type = function() {\n",
       "    if (typeof(WebSocket) !== 'undefined') {\n",
       "        return WebSocket;\n",
       "    } else if (typeof(MozWebSocket) !== 'undefined') {\n",
       "        return MozWebSocket;\n",
       "    } else {\n",
       "        alert('Your browser does not have WebSocket support.' +\n",
       "              'Please try Chrome, Safari or Firefox ≥ 6. ' +\n",
       "              'Firefox 4 and 5 are also supported but you ' +\n",
       "              'have to enable WebSockets in about:config.');\n",
       "    };\n",
       "}\n",
       "\n",
       "mpl.figure = function(figure_id, websocket, ondownload, parent_element) {\n",
       "    this.id = figure_id;\n",
       "\n",
       "    this.ws = websocket;\n",
       "\n",
       "    this.supports_binary = (this.ws.binaryType != undefined);\n",
       "\n",
       "    if (!this.supports_binary) {\n",
       "        var warnings = document.getElementById(\"mpl-warnings\");\n",
       "        if (warnings) {\n",
       "            warnings.style.display = 'block';\n",
       "            warnings.textContent = (\n",
       "                \"This browser does not support binary websocket messages. \" +\n",
       "                    \"Performance may be slow.\");\n",
       "        }\n",
       "    }\n",
       "\n",
       "    this.imageObj = new Image();\n",
       "\n",
       "    this.context = undefined;\n",
       "    this.message = undefined;\n",
       "    this.canvas = undefined;\n",
       "    this.rubberband_canvas = undefined;\n",
       "    this.rubberband_context = undefined;\n",
       "    this.format_dropdown = undefined;\n",
       "\n",
       "    this.image_mode = 'full';\n",
       "\n",
       "    this.root = $('<div/>');\n",
       "    this._root_extra_style(this.root)\n",
       "    this.root.attr('style', 'display: inline-block');\n",
       "\n",
       "    $(parent_element).append(this.root);\n",
       "\n",
       "    this._init_header(this);\n",
       "    this._init_canvas(this);\n",
       "    this._init_toolbar(this);\n",
       "\n",
       "    var fig = this;\n",
       "\n",
       "    this.waiting = false;\n",
       "\n",
       "    this.ws.onopen =  function () {\n",
       "            fig.send_message(\"supports_binary\", {value: fig.supports_binary});\n",
       "            fig.send_message(\"send_image_mode\", {});\n",
       "            if (mpl.ratio != 1) {\n",
       "                fig.send_message(\"set_dpi_ratio\", {'dpi_ratio': mpl.ratio});\n",
       "            }\n",
       "            fig.send_message(\"refresh\", {});\n",
       "        }\n",
       "\n",
       "    this.imageObj.onload = function() {\n",
       "            if (fig.image_mode == 'full') {\n",
       "                // Full images could contain transparency (where diff images\n",
       "                // almost always do), so we need to clear the canvas so that\n",
       "                // there is no ghosting.\n",
       "                fig.context.clearRect(0, 0, fig.canvas.width, fig.canvas.height);\n",
       "            }\n",
       "            fig.context.drawImage(fig.imageObj, 0, 0);\n",
       "        };\n",
       "\n",
       "    this.imageObj.onunload = function() {\n",
       "        this.ws.close();\n",
       "    }\n",
       "\n",
       "    this.ws.onmessage = this._make_on_message_function(this);\n",
       "\n",
       "    this.ondownload = ondownload;\n",
       "}\n",
       "\n",
       "mpl.figure.prototype._init_header = function() {\n",
       "    var titlebar = $(\n",
       "        '<div class=\"ui-dialog-titlebar ui-widget-header ui-corner-all ' +\n",
       "        'ui-helper-clearfix\"/>');\n",
       "    var titletext = $(\n",
       "        '<div class=\"ui-dialog-title\" style=\"width: 100%; ' +\n",
       "        'text-align: center; padding: 3px;\"/>');\n",
       "    titlebar.append(titletext)\n",
       "    this.root.append(titlebar);\n",
       "    this.header = titletext[0];\n",
       "}\n",
       "\n",
       "\n",
       "\n",
       "mpl.figure.prototype._canvas_extra_style = function(canvas_div) {\n",
       "\n",
       "}\n",
       "\n",
       "\n",
       "mpl.figure.prototype._root_extra_style = function(canvas_div) {\n",
       "\n",
       "}\n",
       "\n",
       "mpl.figure.prototype._init_canvas = function() {\n",
       "    var fig = this;\n",
       "\n",
       "    var canvas_div = $('<div/>');\n",
       "\n",
       "    canvas_div.attr('style', 'position: relative; clear: both; outline: 0');\n",
       "\n",
       "    function canvas_keyboard_event(event) {\n",
       "        return fig.key_event(event, event['data']);\n",
       "    }\n",
       "\n",
       "    canvas_div.keydown('key_press', canvas_keyboard_event);\n",
       "    canvas_div.keyup('key_release', canvas_keyboard_event);\n",
       "    this.canvas_div = canvas_div\n",
       "    this._canvas_extra_style(canvas_div)\n",
       "    this.root.append(canvas_div);\n",
       "\n",
       "    var canvas = $('<canvas/>');\n",
       "    canvas.addClass('mpl-canvas');\n",
       "    canvas.attr('style', \"left: 0; top: 0; z-index: 0; outline: 0\")\n",
       "\n",
       "    this.canvas = canvas[0];\n",
       "    this.context = canvas[0].getContext(\"2d\");\n",
       "\n",
       "    var backingStore = this.context.backingStorePixelRatio ||\n",
       "\tthis.context.webkitBackingStorePixelRatio ||\n",
       "\tthis.context.mozBackingStorePixelRatio ||\n",
       "\tthis.context.msBackingStorePixelRatio ||\n",
       "\tthis.context.oBackingStorePixelRatio ||\n",
       "\tthis.context.backingStorePixelRatio || 1;\n",
       "\n",
       "    mpl.ratio = (window.devicePixelRatio || 1) / backingStore;\n",
       "\n",
       "    var rubberband = $('<canvas/>');\n",
       "    rubberband.attr('style', \"position: absolute; left: 0; top: 0; z-index: 1;\")\n",
       "\n",
       "    var pass_mouse_events = true;\n",
       "\n",
       "    canvas_div.resizable({\n",
       "        start: function(event, ui) {\n",
       "            pass_mouse_events = false;\n",
       "        },\n",
       "        resize: function(event, ui) {\n",
       "            fig.request_resize(ui.size.width, ui.size.height);\n",
       "        },\n",
       "        stop: function(event, ui) {\n",
       "            pass_mouse_events = true;\n",
       "            fig.request_resize(ui.size.width, ui.size.height);\n",
       "        },\n",
       "    });\n",
       "\n",
       "    function mouse_event_fn(event) {\n",
       "        if (pass_mouse_events)\n",
       "            return fig.mouse_event(event, event['data']);\n",
       "    }\n",
       "\n",
       "    rubberband.mousedown('button_press', mouse_event_fn);\n",
       "    rubberband.mouseup('button_release', mouse_event_fn);\n",
       "    // Throttle sequential mouse events to 1 every 20ms.\n",
       "    rubberband.mousemove('motion_notify', mouse_event_fn);\n",
       "\n",
       "    rubberband.mouseenter('figure_enter', mouse_event_fn);\n",
       "    rubberband.mouseleave('figure_leave', mouse_event_fn);\n",
       "\n",
       "    canvas_div.on(\"wheel\", function (event) {\n",
       "        event = event.originalEvent;\n",
       "        event['data'] = 'scroll'\n",
       "        if (event.deltaY < 0) {\n",
       "            event.step = 1;\n",
       "        } else {\n",
       "            event.step = -1;\n",
       "        }\n",
       "        mouse_event_fn(event);\n",
       "    });\n",
       "\n",
       "    canvas_div.append(canvas);\n",
       "    canvas_div.append(rubberband);\n",
       "\n",
       "    this.rubberband = rubberband;\n",
       "    this.rubberband_canvas = rubberband[0];\n",
       "    this.rubberband_context = rubberband[0].getContext(\"2d\");\n",
       "    this.rubberband_context.strokeStyle = \"#000000\";\n",
       "\n",
       "    this._resize_canvas = function(width, height) {\n",
       "        // Keep the size of the canvas, canvas container, and rubber band\n",
       "        // canvas in synch.\n",
       "        canvas_div.css('width', width)\n",
       "        canvas_div.css('height', height)\n",
       "\n",
       "        canvas.attr('width', width * mpl.ratio);\n",
       "        canvas.attr('height', height * mpl.ratio);\n",
       "        canvas.attr('style', 'width: ' + width + 'px; height: ' + height + 'px;');\n",
       "\n",
       "        rubberband.attr('width', width);\n",
       "        rubberband.attr('height', height);\n",
       "    }\n",
       "\n",
       "    // Set the figure to an initial 600x600px, this will subsequently be updated\n",
       "    // upon first draw.\n",
       "    this._resize_canvas(600, 600);\n",
       "\n",
       "    // Disable right mouse context menu.\n",
       "    $(this.rubberband_canvas).bind(\"contextmenu\",function(e){\n",
       "        return false;\n",
       "    });\n",
       "\n",
       "    function set_focus () {\n",
       "        canvas.focus();\n",
       "        canvas_div.focus();\n",
       "    }\n",
       "\n",
       "    window.setTimeout(set_focus, 100);\n",
       "}\n",
       "\n",
       "mpl.figure.prototype._init_toolbar = function() {\n",
       "    var fig = this;\n",
       "\n",
       "    var nav_element = $('<div/>')\n",
       "    nav_element.attr('style', 'width: 100%');\n",
       "    this.root.append(nav_element);\n",
       "\n",
       "    // Define a callback function for later on.\n",
       "    function toolbar_event(event) {\n",
       "        return fig.toolbar_button_onclick(event['data']);\n",
       "    }\n",
       "    function toolbar_mouse_event(event) {\n",
       "        return fig.toolbar_button_onmouseover(event['data']);\n",
       "    }\n",
       "\n",
       "    for(var toolbar_ind in mpl.toolbar_items) {\n",
       "        var name = mpl.toolbar_items[toolbar_ind][0];\n",
       "        var tooltip = mpl.toolbar_items[toolbar_ind][1];\n",
       "        var image = mpl.toolbar_items[toolbar_ind][2];\n",
       "        var method_name = mpl.toolbar_items[toolbar_ind][3];\n",
       "\n",
       "        if (!name) {\n",
       "            // put a spacer in here.\n",
       "            continue;\n",
       "        }\n",
       "        var button = $('<button/>');\n",
       "        button.addClass('ui-button ui-widget ui-state-default ui-corner-all ' +\n",
       "                        'ui-button-icon-only');\n",
       "        button.attr('role', 'button');\n",
       "        button.attr('aria-disabled', 'false');\n",
       "        button.click(method_name, toolbar_event);\n",
       "        button.mouseover(tooltip, toolbar_mouse_event);\n",
       "\n",
       "        var icon_img = $('<span/>');\n",
       "        icon_img.addClass('ui-button-icon-primary ui-icon');\n",
       "        icon_img.addClass(image);\n",
       "        icon_img.addClass('ui-corner-all');\n",
       "\n",
       "        var tooltip_span = $('<span/>');\n",
       "        tooltip_span.addClass('ui-button-text');\n",
       "        tooltip_span.html(tooltip);\n",
       "\n",
       "        button.append(icon_img);\n",
       "        button.append(tooltip_span);\n",
       "\n",
       "        nav_element.append(button);\n",
       "    }\n",
       "\n",
       "    var fmt_picker_span = $('<span/>');\n",
       "\n",
       "    var fmt_picker = $('<select/>');\n",
       "    fmt_picker.addClass('mpl-toolbar-option ui-widget ui-widget-content');\n",
       "    fmt_picker_span.append(fmt_picker);\n",
       "    nav_element.append(fmt_picker_span);\n",
       "    this.format_dropdown = fmt_picker[0];\n",
       "\n",
       "    for (var ind in mpl.extensions) {\n",
       "        var fmt = mpl.extensions[ind];\n",
       "        var option = $(\n",
       "            '<option/>', {selected: fmt === mpl.default_extension}).html(fmt);\n",
       "        fmt_picker.append(option)\n",
       "    }\n",
       "\n",
       "    // Add hover states to the ui-buttons\n",
       "    $( \".ui-button\" ).hover(\n",
       "        function() { $(this).addClass(\"ui-state-hover\");},\n",
       "        function() { $(this).removeClass(\"ui-state-hover\");}\n",
       "    );\n",
       "\n",
       "    var status_bar = $('<span class=\"mpl-message\"/>');\n",
       "    nav_element.append(status_bar);\n",
       "    this.message = status_bar[0];\n",
       "}\n",
       "\n",
       "mpl.figure.prototype.request_resize = function(x_pixels, y_pixels) {\n",
       "    // Request matplotlib to resize the figure. Matplotlib will then trigger a resize in the client,\n",
       "    // which will in turn request a refresh of the image.\n",
       "    this.send_message('resize', {'width': x_pixels, 'height': y_pixels});\n",
       "}\n",
       "\n",
       "mpl.figure.prototype.send_message = function(type, properties) {\n",
       "    properties['type'] = type;\n",
       "    properties['figure_id'] = this.id;\n",
       "    this.ws.send(JSON.stringify(properties));\n",
       "}\n",
       "\n",
       "mpl.figure.prototype.send_draw_message = function() {\n",
       "    if (!this.waiting) {\n",
       "        this.waiting = true;\n",
       "        this.ws.send(JSON.stringify({type: \"draw\", figure_id: this.id}));\n",
       "    }\n",
       "}\n",
       "\n",
       "\n",
       "mpl.figure.prototype.handle_save = function(fig, msg) {\n",
       "    var format_dropdown = fig.format_dropdown;\n",
       "    var format = format_dropdown.options[format_dropdown.selectedIndex].value;\n",
       "    fig.ondownload(fig, format);\n",
       "}\n",
       "\n",
       "\n",
       "mpl.figure.prototype.handle_resize = function(fig, msg) {\n",
       "    var size = msg['size'];\n",
       "    if (size[0] != fig.canvas.width || size[1] != fig.canvas.height) {\n",
       "        fig._resize_canvas(size[0], size[1]);\n",
       "        fig.send_message(\"refresh\", {});\n",
       "    };\n",
       "}\n",
       "\n",
       "mpl.figure.prototype.handle_rubberband = function(fig, msg) {\n",
       "    var x0 = msg['x0'] / mpl.ratio;\n",
       "    var y0 = (fig.canvas.height - msg['y0']) / mpl.ratio;\n",
       "    var x1 = msg['x1'] / mpl.ratio;\n",
       "    var y1 = (fig.canvas.height - msg['y1']) / mpl.ratio;\n",
       "    x0 = Math.floor(x0) + 0.5;\n",
       "    y0 = Math.floor(y0) + 0.5;\n",
       "    x1 = Math.floor(x1) + 0.5;\n",
       "    y1 = Math.floor(y1) + 0.5;\n",
       "    var min_x = Math.min(x0, x1);\n",
       "    var min_y = Math.min(y0, y1);\n",
       "    var width = Math.abs(x1 - x0);\n",
       "    var height = Math.abs(y1 - y0);\n",
       "\n",
       "    fig.rubberband_context.clearRect(\n",
       "        0, 0, fig.canvas.width, fig.canvas.height);\n",
       "\n",
       "    fig.rubberband_context.strokeRect(min_x, min_y, width, height);\n",
       "}\n",
       "\n",
       "mpl.figure.prototype.handle_figure_label = function(fig, msg) {\n",
       "    // Updates the figure title.\n",
       "    fig.header.textContent = msg['label'];\n",
       "}\n",
       "\n",
       "mpl.figure.prototype.handle_cursor = function(fig, msg) {\n",
       "    var cursor = msg['cursor'];\n",
       "    switch(cursor)\n",
       "    {\n",
       "    case 0:\n",
       "        cursor = 'pointer';\n",
       "        break;\n",
       "    case 1:\n",
       "        cursor = 'default';\n",
       "        break;\n",
       "    case 2:\n",
       "        cursor = 'crosshair';\n",
       "        break;\n",
       "    case 3:\n",
       "        cursor = 'move';\n",
       "        break;\n",
       "    }\n",
       "    fig.rubberband_canvas.style.cursor = cursor;\n",
       "}\n",
       "\n",
       "mpl.figure.prototype.handle_message = function(fig, msg) {\n",
       "    fig.message.textContent = msg['message'];\n",
       "}\n",
       "\n",
       "mpl.figure.prototype.handle_draw = function(fig, msg) {\n",
       "    // Request the server to send over a new figure.\n",
       "    fig.send_draw_message();\n",
       "}\n",
       "\n",
       "mpl.figure.prototype.handle_image_mode = function(fig, msg) {\n",
       "    fig.image_mode = msg['mode'];\n",
       "}\n",
       "\n",
       "mpl.figure.prototype.updated_canvas_event = function() {\n",
       "    // Called whenever the canvas gets updated.\n",
       "    this.send_message(\"ack\", {});\n",
       "}\n",
       "\n",
       "// A function to construct a web socket function for onmessage handling.\n",
       "// Called in the figure constructor.\n",
       "mpl.figure.prototype._make_on_message_function = function(fig) {\n",
       "    return function socket_on_message(evt) {\n",
       "        if (evt.data instanceof Blob) {\n",
       "            /* FIXME: We get \"Resource interpreted as Image but\n",
       "             * transferred with MIME type text/plain:\" errors on\n",
       "             * Chrome.  But how to set the MIME type?  It doesn't seem\n",
       "             * to be part of the websocket stream */\n",
       "            evt.data.type = \"image/png\";\n",
       "\n",
       "            /* Free the memory for the previous frames */\n",
       "            if (fig.imageObj.src) {\n",
       "                (window.URL || window.webkitURL).revokeObjectURL(\n",
       "                    fig.imageObj.src);\n",
       "            }\n",
       "\n",
       "            fig.imageObj.src = (window.URL || window.webkitURL).createObjectURL(\n",
       "                evt.data);\n",
       "            fig.updated_canvas_event();\n",
       "            fig.waiting = false;\n",
       "            return;\n",
       "        }\n",
       "        else if (typeof evt.data === 'string' && evt.data.slice(0, 21) == \"data:image/png;base64\") {\n",
       "            fig.imageObj.src = evt.data;\n",
       "            fig.updated_canvas_event();\n",
       "            fig.waiting = false;\n",
       "            return;\n",
       "        }\n",
       "\n",
       "        var msg = JSON.parse(evt.data);\n",
       "        var msg_type = msg['type'];\n",
       "\n",
       "        // Call the  \"handle_{type}\" callback, which takes\n",
       "        // the figure and JSON message as its only arguments.\n",
       "        try {\n",
       "            var callback = fig[\"handle_\" + msg_type];\n",
       "        } catch (e) {\n",
       "            console.log(\"No handler for the '\" + msg_type + \"' message type: \", msg);\n",
       "            return;\n",
       "        }\n",
       "\n",
       "        if (callback) {\n",
       "            try {\n",
       "                // console.log(\"Handling '\" + msg_type + \"' message: \", msg);\n",
       "                callback(fig, msg);\n",
       "            } catch (e) {\n",
       "                console.log(\"Exception inside the 'handler_\" + msg_type + \"' callback:\", e, e.stack, msg);\n",
       "            }\n",
       "        }\n",
       "    };\n",
       "}\n",
       "\n",
       "// from http://stackoverflow.com/questions/1114465/getting-mouse-location-in-canvas\n",
       "mpl.findpos = function(e) {\n",
       "    //this section is from http://www.quirksmode.org/js/events_properties.html\n",
       "    var targ;\n",
       "    if (!e)\n",
       "        e = window.event;\n",
       "    if (e.target)\n",
       "        targ = e.target;\n",
       "    else if (e.srcElement)\n",
       "        targ = e.srcElement;\n",
       "    if (targ.nodeType == 3) // defeat Safari bug\n",
       "        targ = targ.parentNode;\n",
       "\n",
       "    // jQuery normalizes the pageX and pageY\n",
       "    // pageX,Y are the mouse positions relative to the document\n",
       "    // offset() returns the position of the element relative to the document\n",
       "    var x = e.pageX - $(targ).offset().left;\n",
       "    var y = e.pageY - $(targ).offset().top;\n",
       "\n",
       "    return {\"x\": x, \"y\": y};\n",
       "};\n",
       "\n",
       "/*\n",
       " * return a copy of an object with only non-object keys\n",
       " * we need this to avoid circular references\n",
       " * http://stackoverflow.com/a/24161582/3208463\n",
       " */\n",
       "function simpleKeys (original) {\n",
       "  return Object.keys(original).reduce(function (obj, key) {\n",
       "    if (typeof original[key] !== 'object')\n",
       "        obj[key] = original[key]\n",
       "    return obj;\n",
       "  }, {});\n",
       "}\n",
       "\n",
       "mpl.figure.prototype.mouse_event = function(event, name) {\n",
       "    var canvas_pos = mpl.findpos(event)\n",
       "\n",
       "    if (name === 'button_press')\n",
       "    {\n",
       "        this.canvas.focus();\n",
       "        this.canvas_div.focus();\n",
       "    }\n",
       "\n",
       "    var x = canvas_pos.x * mpl.ratio;\n",
       "    var y = canvas_pos.y * mpl.ratio;\n",
       "\n",
       "    this.send_message(name, {x: x, y: y, button: event.button,\n",
       "                             step: event.step,\n",
       "                             guiEvent: simpleKeys(event)});\n",
       "\n",
       "    /* This prevents the web browser from automatically changing to\n",
       "     * the text insertion cursor when the button is pressed.  We want\n",
       "     * to control all of the cursor setting manually through the\n",
       "     * 'cursor' event from matplotlib */\n",
       "    event.preventDefault();\n",
       "    return false;\n",
       "}\n",
       "\n",
       "mpl.figure.prototype._key_event_extra = function(event, name) {\n",
       "    // Handle any extra behaviour associated with a key event\n",
       "}\n",
       "\n",
       "mpl.figure.prototype.key_event = function(event, name) {\n",
       "\n",
       "    // Prevent repeat events\n",
       "    if (name == 'key_press')\n",
       "    {\n",
       "        if (event.which === this._key)\n",
       "            return;\n",
       "        else\n",
       "            this._key = event.which;\n",
       "    }\n",
       "    if (name == 'key_release')\n",
       "        this._key = null;\n",
       "\n",
       "    var value = '';\n",
       "    if (event.ctrlKey && event.which != 17)\n",
       "        value += \"ctrl+\";\n",
       "    if (event.altKey && event.which != 18)\n",
       "        value += \"alt+\";\n",
       "    if (event.shiftKey && event.which != 16)\n",
       "        value += \"shift+\";\n",
       "\n",
       "    value += 'k';\n",
       "    value += event.which.toString();\n",
       "\n",
       "    this._key_event_extra(event, name);\n",
       "\n",
       "    this.send_message(name, {key: value,\n",
       "                             guiEvent: simpleKeys(event)});\n",
       "    return false;\n",
       "}\n",
       "\n",
       "mpl.figure.prototype.toolbar_button_onclick = function(name) {\n",
       "    if (name == 'download') {\n",
       "        this.handle_save(this, null);\n",
       "    } else {\n",
       "        this.send_message(\"toolbar_button\", {name: name});\n",
       "    }\n",
       "};\n",
       "\n",
       "mpl.figure.prototype.toolbar_button_onmouseover = function(tooltip) {\n",
       "    this.message.textContent = tooltip;\n",
       "};\n",
       "mpl.toolbar_items = [[\"Home\", \"Reset original view\", \"fa fa-home icon-home\", \"home\"], [\"Back\", \"Back to  previous view\", \"fa fa-arrow-left icon-arrow-left\", \"back\"], [\"Forward\", \"Forward to next view\", \"fa fa-arrow-right icon-arrow-right\", \"forward\"], [\"\", \"\", \"\", \"\"], [\"Pan\", \"Pan axes with left mouse, zoom with right\", \"fa fa-arrows icon-move\", \"pan\"], [\"Zoom\", \"Zoom to rectangle\", \"fa fa-square-o icon-check-empty\", \"zoom\"], [\"\", \"\", \"\", \"\"], [\"Download\", \"Download plot\", \"fa fa-floppy-o icon-save\", \"download\"]];\n",
       "\n",
       "mpl.extensions = [\"eps\", \"jpeg\", \"pdf\", \"png\", \"ps\", \"raw\", \"svg\", \"tif\"];\n",
       "\n",
       "mpl.default_extension = \"png\";var comm_websocket_adapter = function(comm) {\n",
       "    // Create a \"websocket\"-like object which calls the given IPython comm\n",
       "    // object with the appropriate methods. Currently this is a non binary\n",
       "    // socket, so there is still some room for performance tuning.\n",
       "    var ws = {};\n",
       "\n",
       "    ws.close = function() {\n",
       "        comm.close()\n",
       "    };\n",
       "    ws.send = function(m) {\n",
       "        //console.log('sending', m);\n",
       "        comm.send(m);\n",
       "    };\n",
       "    // Register the callback with on_msg.\n",
       "    comm.on_msg(function(msg) {\n",
       "        //console.log('receiving', msg['content']['data'], msg);\n",
       "        // Pass the mpl event to the overriden (by mpl) onmessage function.\n",
       "        ws.onmessage(msg['content']['data'])\n",
       "    });\n",
       "    return ws;\n",
       "}\n",
       "\n",
       "mpl.mpl_figure_comm = function(comm, msg) {\n",
       "    // This is the function which gets called when the mpl process\n",
       "    // starts-up an IPython Comm through the \"matplotlib\" channel.\n",
       "\n",
       "    var id = msg.content.data.id;\n",
       "    // Get hold of the div created by the display call when the Comm\n",
       "    // socket was opened in Python.\n",
       "    var element = $(\"#\" + id);\n",
       "    var ws_proxy = comm_websocket_adapter(comm)\n",
       "\n",
       "    function ondownload(figure, format) {\n",
       "        window.open(figure.imageObj.src);\n",
       "    }\n",
       "\n",
       "    var fig = new mpl.figure(id, ws_proxy,\n",
       "                           ondownload,\n",
       "                           element.get(0));\n",
       "\n",
       "    // Call onopen now - mpl needs it, as it is assuming we've passed it a real\n",
       "    // web socket which is closed, not our websocket->open comm proxy.\n",
       "    ws_proxy.onopen();\n",
       "\n",
       "    fig.parent_element = element.get(0);\n",
       "    fig.cell_info = mpl.find_output_cell(\"<div id='\" + id + \"'></div>\");\n",
       "    if (!fig.cell_info) {\n",
       "        console.error(\"Failed to find cell for figure\", id, fig);\n",
       "        return;\n",
       "    }\n",
       "\n",
       "    var output_index = fig.cell_info[2]\n",
       "    var cell = fig.cell_info[0];\n",
       "\n",
       "};\n",
       "\n",
       "mpl.figure.prototype.handle_close = function(fig, msg) {\n",
       "    var width = fig.canvas.width/mpl.ratio\n",
       "    fig.root.unbind('remove')\n",
       "\n",
       "    // Update the output cell to use the data from the current canvas.\n",
       "    fig.push_to_output();\n",
       "    var dataURL = fig.canvas.toDataURL();\n",
       "    // Re-enable the keyboard manager in IPython - without this line, in FF,\n",
       "    // the notebook keyboard shortcuts fail.\n",
       "    IPython.keyboard_manager.enable()\n",
       "    $(fig.parent_element).html('<img src=\"' + dataURL + '\" width=\"' + width + '\">');\n",
       "    fig.close_ws(fig, msg);\n",
       "}\n",
       "\n",
       "mpl.figure.prototype.close_ws = function(fig, msg){\n",
       "    fig.send_message('closing', msg);\n",
       "    // fig.ws.close()\n",
       "}\n",
       "\n",
       "mpl.figure.prototype.push_to_output = function(remove_interactive) {\n",
       "    // Turn the data on the canvas into data in the output cell.\n",
       "    var width = this.canvas.width/mpl.ratio\n",
       "    var dataURL = this.canvas.toDataURL();\n",
       "    this.cell_info[1]['text/html'] = '<img src=\"' + dataURL + '\" width=\"' + width + '\">';\n",
       "}\n",
       "\n",
       "mpl.figure.prototype.updated_canvas_event = function() {\n",
       "    // Tell IPython that the notebook contents must change.\n",
       "    IPython.notebook.set_dirty(true);\n",
       "    this.send_message(\"ack\", {});\n",
       "    var fig = this;\n",
       "    // Wait a second, then push the new image to the DOM so\n",
       "    // that it is saved nicely (might be nice to debounce this).\n",
       "    setTimeout(function () { fig.push_to_output() }, 1000);\n",
       "}\n",
       "\n",
       "mpl.figure.prototype._init_toolbar = function() {\n",
       "    var fig = this;\n",
       "\n",
       "    var nav_element = $('<div/>')\n",
       "    nav_element.attr('style', 'width: 100%');\n",
       "    this.root.append(nav_element);\n",
       "\n",
       "    // Define a callback function for later on.\n",
       "    function toolbar_event(event) {\n",
       "        return fig.toolbar_button_onclick(event['data']);\n",
       "    }\n",
       "    function toolbar_mouse_event(event) {\n",
       "        return fig.toolbar_button_onmouseover(event['data']);\n",
       "    }\n",
       "\n",
       "    for(var toolbar_ind in mpl.toolbar_items){\n",
       "        var name = mpl.toolbar_items[toolbar_ind][0];\n",
       "        var tooltip = mpl.toolbar_items[toolbar_ind][1];\n",
       "        var image = mpl.toolbar_items[toolbar_ind][2];\n",
       "        var method_name = mpl.toolbar_items[toolbar_ind][3];\n",
       "\n",
       "        if (!name) { continue; };\n",
       "\n",
       "        var button = $('<button class=\"btn btn-default\" href=\"#\" title=\"' + name + '\"><i class=\"fa ' + image + ' fa-lg\"></i></button>');\n",
       "        button.click(method_name, toolbar_event);\n",
       "        button.mouseover(tooltip, toolbar_mouse_event);\n",
       "        nav_element.append(button);\n",
       "    }\n",
       "\n",
       "    // Add the status bar.\n",
       "    var status_bar = $('<span class=\"mpl-message\" style=\"text-align:right; float: right;\"/>');\n",
       "    nav_element.append(status_bar);\n",
       "    this.message = status_bar[0];\n",
       "\n",
       "    // Add the close button to the window.\n",
       "    var buttongrp = $('<div class=\"btn-group inline pull-right\"></div>');\n",
       "    var button = $('<button class=\"btn btn-mini btn-primary\" href=\"#\" title=\"Stop Interaction\"><i class=\"fa fa-power-off icon-remove icon-large\"></i></button>');\n",
       "    button.click(function (evt) { fig.handle_close(fig, {}); } );\n",
       "    button.mouseover('Stop Interaction', toolbar_mouse_event);\n",
       "    buttongrp.append(button);\n",
       "    var titlebar = this.root.find($('.ui-dialog-titlebar'));\n",
       "    titlebar.prepend(buttongrp);\n",
       "}\n",
       "\n",
       "mpl.figure.prototype._root_extra_style = function(el){\n",
       "    var fig = this\n",
       "    el.on(\"remove\", function(){\n",
       "\tfig.close_ws(fig, {});\n",
       "    });\n",
       "}\n",
       "\n",
       "mpl.figure.prototype._canvas_extra_style = function(el){\n",
       "    // this is important to make the div 'focusable\n",
       "    el.attr('tabindex', 0)\n",
       "    // reach out to IPython and tell the keyboard manager to turn it's self\n",
       "    // off when our div gets focus\n",
       "\n",
       "    // location in version 3\n",
       "    if (IPython.notebook.keyboard_manager) {\n",
       "        IPython.notebook.keyboard_manager.register_events(el);\n",
       "    }\n",
       "    else {\n",
       "        // location in version 2\n",
       "        IPython.keyboard_manager.register_events(el);\n",
       "    }\n",
       "\n",
       "}\n",
       "\n",
       "mpl.figure.prototype._key_event_extra = function(event, name) {\n",
       "    var manager = IPython.notebook.keyboard_manager;\n",
       "    if (!manager)\n",
       "        manager = IPython.keyboard_manager;\n",
       "\n",
       "    // Check for shift+enter\n",
       "    if (event.shiftKey && event.which == 13) {\n",
       "        this.canvas_div.blur();\n",
       "        // select the cell after this one\n",
       "        var index = IPython.notebook.find_cell_index(this.cell_info[0]);\n",
       "        IPython.notebook.select(index + 1);\n",
       "    }\n",
       "}\n",
       "\n",
       "mpl.figure.prototype.handle_save = function(fig, msg) {\n",
       "    fig.ondownload(fig, null);\n",
       "}\n",
       "\n",
       "\n",
       "mpl.find_output_cell = function(html_output) {\n",
       "    // Return the cell and output element which can be found *uniquely* in the notebook.\n",
       "    // Note - this is a bit hacky, but it is done because the \"notebook_saving.Notebook\"\n",
       "    // IPython event is triggered only after the cells have been serialised, which for\n",
       "    // our purposes (turning an active figure into a static one), is too late.\n",
       "    var cells = IPython.notebook.get_cells();\n",
       "    var ncells = cells.length;\n",
       "    for (var i=0; i<ncells; i++) {\n",
       "        var cell = cells[i];\n",
       "        if (cell.cell_type === 'code'){\n",
       "            for (var j=0; j<cell.output_area.outputs.length; j++) {\n",
       "                var data = cell.output_area.outputs[j];\n",
       "                if (data.data) {\n",
       "                    // IPython >= 3 moved mimebundle to data attribute of output\n",
       "                    data = data.data;\n",
       "                }\n",
       "                if (data['text/html'] == html_output) {\n",
       "                    return [cell, data, j];\n",
       "                }\n",
       "            }\n",
       "        }\n",
       "    }\n",
       "}\n",
       "\n",
       "// Register the function which deals with the matplotlib target/channel.\n",
       "// The kernel may be null if the page has been refreshed.\n",
       "if (IPython.notebook.kernel != null) {\n",
       "    IPython.notebook.kernel.comm_manager.register_target('matplotlib', mpl.mpl_figure_comm);\n",
       "}\n"
      ],
      "text/plain": [
       "<IPython.core.display.Javascript object>"
      ]
     },
     "metadata": {},
     "output_type": "display_data"
    },
    {
     "data": {
      "text/html": [
       "<img src=\"data:image/png;base64,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\" width=\"640\">"
      ],
      "text/plain": [
       "<IPython.core.display.HTML object>"
      ]
     },
     "metadata": {},
     "output_type": "display_data"
    }
   ],
   "source": [
    "from sklearn.manifold import TSNE\n",
    "import matplotlib.pyplot as plt\n",
    "%matplotlib notebook\n",
    "import sys  \n",
    "\n",
    "reload(sys)  \n",
    "sys.setdefaultencoding('utf8')\n",
    "#W contains embeding vectors as rows\n",
    "# words contains the word labels in the same order as the rows of W\n",
    "\n",
    "words = vectors_pretrained.keys()\n",
    "W = vectors_pretrained.values() \n",
    "\n",
    "#words, W = zip(*vectors.items())\n",
    "\n",
    "\n",
    "\n",
    "tsne = TSNE(n_components=2, random_state = 0)\n",
    "np.set_printoptions(suppress=True)\n",
    "#Y = tsne.fit_transform(W[:1000,:])\n",
    "Y = tsne.fit_transform(W[:5000])\n",
    "\n",
    "plt.scatter(Y[:, 0], Y[:, 1])\n",
    "for label, x, y in zip(words, Y[:, 0], Y[:, 1]):\n",
    "    plt.annotate(label, xy=(x, y), xytext = (0, 0),\n",
    "        textcoords='offset points')\n",
    "\n",
    "plt.show()\n",
    "\n"
   ]
  },
  {
   "cell_type": "markdown",
   "metadata": {},
   "source": [
    "Adjectives with positive connotation seem to be grouped together. (integrity, exciting, relevant, exact, objective, convenient, etc.)"
   ]
  },
  {
   "cell_type": "code",
   "execution_count": 11,
   "metadata": {
    "collapsed": false
   },
   "outputs": [
    {
     "data": {
      "text/plain": [
       "400000"
      ]
     },
     "execution_count": 11,
     "metadata": {},
     "output_type": "execute_result"
    }
   ],
   "source": [
    "#type(W[:1000,:])\n",
    "len(W)"
   ]
  },
  {
   "cell_type": "code",
   "execution_count": 34,
   "metadata": {
    "collapsed": false
   },
   "outputs": [
    {
     "data": {
      "text/plain": [
       "[(1, 2), (3, 4), (5, 6), (7, 8), (9, 10)]"
      ]
     },
     "execution_count": 34,
     "metadata": {},
     "output_type": "execute_result"
    }
   ],
   "source": [
    "Q=[(1,2),(3,4),(5,6),(7,8),(9,10),(11,142),(13,14),(15,16),(17,118),(19,20)]\n",
    "Q[:5]\n"
   ]
  },
  {
   "cell_type": "code",
   "execution_count": 24,
   "metadata": {
    "collapsed": false
   },
   "outputs": [
    {
     "data": {
      "text/plain": [
       "array([-0.25747   ,  0.77648   , -1.2       , -0.75063   ,  0.01871   ,\n",
       "       -0.98284193, -1.45891   ,  0.61566   , -0.64048   , -0.40088   ,\n",
       "       -0.84661   ,  0.21069   , -0.8023    , -0.70468   ,  0.15743   ,\n",
       "        0.77785   ,  0.486246  , -0.07753   , -1.931     ,  0.6049    ,\n",
       "        1.597117  ,  1.25349   , -0.161807  ,  0.84871   , -0.0815803 ,\n",
       "       -0.8118    ,  0.23373   , -0.16136   , -0.5647    ,  0.20074   ,\n",
       "        2.3289    , -0.09939   ,  1.0079    , -0.716227  ,  1.12996   ,\n",
       "        0.34489   ,  1.01209   ,  0.39882   ,  0.51357   , -0.2847    ,\n",
       "       -0.18389   , -0.347373  , -0.708588  ,  0.74983   , -0.137956  ,\n",
       "        1.228575  , -0.26713   , -1.06051   ,  0.68642   , -0.59511   ])"
      ]
     },
     "execution_count": 24,
     "metadata": {},
     "output_type": "execute_result"
    }
   ],
   "source": [
    "(np.array(vectors_pretrained['paris']) - \n",
    "         np.array(vectors_pretrained['france']) + \n",
    "         np.array(vectors_pretrained['england']))"
   ]
  },
  {
   "cell_type": "code",
   "execution_count": 23,
   "metadata": {
    "collapsed": false
   },
   "outputs": [
    {
     "data": {
      "text/plain": [
       "array([ 0.032886 ,  0.99637  , -0.6975   , -0.58375  ,  0.053403 ,\n",
       "       -0.35758  , -0.96735  , -0.048156 , -0.23417  , -0.31642  ,\n",
       "       -0.080246 ,  0.0075121, -0.69211  , -0.19357  ,  0.040528 ,\n",
       "        0.74492  ,  0.079019 , -0.13893  , -1.5938   ,  0.33824  ,\n",
       "        2.5535   ,  0.87576  , -0.1597   ,  0.85763  , -0.68158  ,\n",
       "       -1.3948   ,  0.13189  ,  0.10129  , -0.7461   ,  0.67386  ,\n",
       "        2.5619   , -0.19922  ,  0.76751  , -0.4867   ,  0.39738  ,\n",
       "       -0.6253   ,  0.63504  , -0.1989   , -0.0953   , -0.22472  ,\n",
       "        0.61698  , -0.21968  ,  0.2584   , -0.39371  ,  0.47571  ,\n",
       "        0.57736  , -0.55713  , -0.6259   ,  0.60789  , -0.30978  ])"
      ]
     },
     "execution_count": 23,
     "metadata": {},
     "output_type": "execute_result"
    }
   ],
   "source": [
    "(np.array(vectors_pretrained['london']))"
   ]
  },
  {
   "cell_type": "code",
   "execution_count": 39,
   "metadata": {
    "collapsed": false
   },
   "outputs": [
    {
     "data": {
      "text/plain": [
       "0.8193409891407949"
      ]
     },
     "execution_count": 39,
     "metadata": {},
     "output_type": "execute_result"
    }
   ],
   "source": [
    "sum(np.array(vectors_pretrained['verplank']))\n",
    "correlation_mat= np.corrcoef(np.array(vectors_pretrained['london']),(np.array(vectors_pretrained['paris']) - \n",
    "         np.array(vectors_pretrained['france']) + \n",
    "         np.array(vectors_pretrained['england'])))\n",
    "\n",
    "correlation_mat[0][1]"
   ]
  },
  {
   "cell_type": "code",
   "execution_count": 41,
   "metadata": {
    "collapsed": false
   },
   "outputs": [
    {
     "data": {
      "text/plain": [
       "0.86085977307525285"
      ]
     },
     "execution_count": 41,
     "metadata": {},
     "output_type": "execute_result"
    }
   ],
   "source": [
    "correlation_mat= np.corrcoef(np.array(vectors_pretrained['queen']),(np.array(vectors_pretrained['king']) - \n",
    "         np.array(vectors_pretrained['man']) + \n",
    "         np.array(vectors_pretrained['woman'])))\n",
    "correlation_mat[0][1]\n"
   ]
  },
  {
   "cell_type": "code",
   "execution_count": 45,
   "metadata": {
    "collapsed": false
   },
   "outputs": [
    {
     "name": "stdout",
     "output_type": "stream",
     "text": [
      "[(11, 142), (17, 118), (19, 20), (15, 16), (13, 14), (9, 10), (7, 8), (5, 6), (3, 4), (1, 2)]\n"
     ]
    }
   ],
   "source": [
    "asdf = [5,1,45,7,27,9,3]\n",
    "wow = sorted(Q, key=lambda x: x[1], reverse=True)\n",
    "print wow\n"
   ]
  },
  {
   "cell_type": "code",
   "execution_count": 10,
   "metadata": {
    "collapsed": false
   },
   "outputs": [
    {
     "data": {
      "text/plain": [
       "[-0.62964,\n",
       " -0.41852,\n",
       " 1.0236,\n",
       " -0.20629,\n",
       " 0.18681,\n",
       " 1.1836,\n",
       " -1.1125,\n",
       " 0.061848,\n",
       " -0.98647,\n",
       " -1.1978,\n",
       " -2.0101,\n",
       " -0.81715,\n",
       " -0.088324,\n",
       " 0.2431,\n",
       " -0.94952,\n",
       " -0.62524,\n",
       " 0.56778,\n",
       " -0.66119,\n",
       " 0.23107,\n",
       " -0.732,\n",
       " -0.75439,\n",
       " -0.54928,\n",
       " 0.3512,\n",
       " -0.44388,\n",
       " -0.28215,\n",
       " -2.4233,\n",
       " -0.15651,\n",
       " -0.31636,\n",
       " -0.45465,\n",
       " 0.63483,\n",
       " 2.0342,\n",
       " -0.033718,\n",
       " -1.1777,\n",
       " -1.2411,\n",
       " -0.32364,\n",
       " -1.0717,\n",
       " -1.0004,\n",
       " 0.28567,\n",
       " -0.45446,\n",
       " -0.9771,\n",
       " -0.70622,\n",
       " 0.85814,\n",
       " -1.5202,\n",
       " 0.23351,\n",
       " -0.38033,\n",
       " 0.2903,\n",
       " -1.2494,\n",
       " -0.17779,\n",
       " -0.31254,\n",
       " 1.2733]"
      ]
     },
     "execution_count": 10,
     "metadata": {},
     "output_type": "execute_result"
    }
   ],
   "source": [
    "vectors_pretrained[\"republican\"]"
   ]
  },
  {
   "cell_type": "code",
   "execution_count": null,
   "metadata": {
    "collapsed": true
   },
   "outputs": [],
   "source": []
  }
 ],
 "metadata": {
  "kernelspec": {
   "display_name": "Python 2",
   "language": "python",
   "name": "python2"
  },
  "language_info": {
   "codemirror_mode": {
    "name": "ipython",
    "version": 2
   },
   "file_extension": ".py",
   "mimetype": "text/x-python",
   "name": "python",
   "nbconvert_exporter": "python",
   "pygments_lexer": "ipython2",
   "version": "2.7.12"
  }
 },
 "nbformat": 4,
 "nbformat_minor": 2
}
